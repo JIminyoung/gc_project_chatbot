{
 "cells": [
  {
   "cell_type": "code",
   "execution_count": 1,
   "metadata": {},
   "outputs": [],
   "source": [
    "import os"
   ]
  },
  {
   "cell_type": "code",
   "execution_count": 9,
   "metadata": {},
   "outputs": [
    {
     "name": "stdout",
     "output_type": "stream",
     "text": [
      "('/Users/mac/project/workspace/data_file', [], ['seoul_mapo.csv', 'seoul_dobong.csv', 'seoul_yeongdeungpo.csv', 'seoul_gangseo.csv', 'seoul_yangcheon.csv'])\n"
     ]
    }
   ],
   "source": [
    "for dir in os.walk(os.getcwd()+'/data_file'):\n",
    "    print(dir)"
   ]
  },
  {
   "cell_type": "code",
   "execution_count": 28,
   "metadata": {},
   "outputs": [
    {
     "data": {
      "text/plain": [
       "'/Users/mac/project/workspace/data_file'"
      ]
     },
     "execution_count": 28,
     "metadata": {},
     "output_type": "execute_result"
    }
   ],
   "source": [
    "os.chdir('data_file')\n",
    "os.getcwd()"
   ]
  },
  {
   "cell_type": "code",
   "execution_count": 29,
   "metadata": {},
   "outputs": [
    {
     "name": "stdout",
     "output_type": "stream",
     "text": [
      "['seoul_mapo.csv', 'seoul_dobong.csv', 'seoul_yeongdeungpo.csv', 'seoul_gangseo.csv', 'seoul_yangcheon.csv']\n"
     ]
    }
   ],
   "source": [
    "data_dir = os.listdir(os.getcwd())\n",
    "print(data_dir)"
   ]
  },
  {
   "cell_type": "code",
   "execution_count": 26,
   "metadata": {},
   "outputs": [
    {
     "name": "stdout",
     "output_type": "stream",
     "text": [
      "mapo\n",
      "dobong\n",
      "yeongdeungpo\n",
      "gangseo\n",
      "yangcheon\n"
     ]
    }
   ],
   "source": [
    "for i in data_dir:\n",
    "    print(i.split(\"_\")[1][:-4])"
   ]
  },
  {
   "cell_type": "code",
   "execution_count": 32,
   "metadata": {},
   "outputs": [
    {
     "name": "stdout",
     "output_type": "stream",
     "text": [
      "Full_file_name:/Users/mac/project/workspace/data_file/seoul_mapo.csv\n",
      "DB_name: mapo\n",
      "Full_file_name:/Users/mac/project/workspace/data_file/seoul_dobong.csv\n",
      "DB_name: dobong\n",
      "Full_file_name:/Users/mac/project/workspace/data_file/seoul_yeongdeungpo.csv\n",
      "DB_name: yeongdeungpo\n",
      "Full_file_name:/Users/mac/project/workspace/data_file/seoul_gangseo.csv\n",
      "DB_name: gangseo\n",
      "Full_file_name:/Users/mac/project/workspace/data_file/seoul_yangcheon.csv\n",
      "DB_name: yangcheon\n"
     ]
    }
   ],
   "source": [
    "for i in data_dir:\n",
    "    print(\"Full_file_name:\"+os.getcwd()+'/'+i )\n",
    "    print(\"DB_name:\", i.split(\"_\")[1][:-4])"
   ]
  }
 ],
 "metadata": {
  "kernelspec": {
   "display_name": "Python 3",
   "language": "python",
   "name": "python3"
  },
  "language_info": {
   "codemirror_mode": {
    "name": "ipython",
    "version": 3
   },
   "file_extension": ".py",
   "mimetype": "text/x-python",
   "name": "python",
   "nbconvert_exporter": "python",
   "pygments_lexer": "ipython3",
   "version": "3.6.5"
  }
 },
 "nbformat": 4,
 "nbformat_minor": 2
}
